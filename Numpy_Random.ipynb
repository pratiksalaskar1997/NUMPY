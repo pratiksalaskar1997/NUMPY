{
 "cells": [
  {
   "cell_type": "code",
   "execution_count": 1,
   "id": "f795ea06",
   "metadata": {},
   "outputs": [],
   "source": [
    "import numpy as np"
   ]
  },
  {
   "cell_type": "code",
   "execution_count": 25,
   "id": "533971a5",
   "metadata": {},
   "outputs": [
    {
     "data": {
      "text/plain": [
       "array([[7, 6],\n",
       "       [8, 7]])"
      ]
     },
     "execution_count": 25,
     "metadata": {},
     "output_type": "execute_result"
    }
   ],
   "source": [
    "np.random.randint(6,10,(2,2))"
   ]
  },
  {
   "cell_type": "code",
   "execution_count": 34,
   "id": "a1c803e7",
   "metadata": {},
   "outputs": [
    {
     "data": {
      "text/plain": [
       "685"
      ]
     },
     "execution_count": 34,
     "metadata": {},
     "output_type": "execute_result"
    }
   ],
   "source": [
    "np.random.seed(0)\n",
    "np.random.randint(1,1000)"
   ]
  },
  {
   "cell_type": "code",
   "execution_count": 52,
   "id": "b0663de5",
   "metadata": {},
   "outputs": [
    {
     "name": "stdout",
     "output_type": "stream",
     "text": [
      "8\n",
      "8\n",
      "8\n",
      "8\n",
      "8\n"
     ]
    }
   ],
   "source": [
    "for i in range(5):\n",
    "    np.random.seed(100)\n",
    "    print(np.random.randint(0,100))"
   ]
  },
  {
   "cell_type": "code",
   "execution_count": 58,
   "id": "0b661318",
   "metadata": {},
   "outputs": [
    {
     "name": "stdout",
     "output_type": "stream",
     "text": [
      "44\n",
      "44\n",
      "47\n"
     ]
    }
   ],
   "source": [
    "np.random.seed(0)\n",
    "print(np.random.randint(0,100))\n",
    "np.random.seed(0)\n",
    "print(np.random.randint(0,100))\n",
    "print(np.random.randint(0,100))"
   ]
  },
  {
   "cell_type": "code",
   "execution_count": null,
   "id": "b7665d82",
   "metadata": {},
   "outputs": [],
   "source": []
  }
 ],
 "metadata": {
  "kernelspec": {
   "display_name": "Python 3 (ipykernel)",
   "language": "python",
   "name": "python3"
  },
  "language_info": {
   "codemirror_mode": {
    "name": "ipython",
    "version": 3
   },
   "file_extension": ".py",
   "mimetype": "text/x-python",
   "name": "python",
   "nbconvert_exporter": "python",
   "pygments_lexer": "ipython3",
   "version": "3.9.7"
  }
 },
 "nbformat": 4,
 "nbformat_minor": 5
}
