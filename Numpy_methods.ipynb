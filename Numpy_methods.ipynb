{
 "cells": [
  {
   "cell_type": "code",
   "execution_count": 1,
   "id": "a17ac059",
   "metadata": {},
   "outputs": [],
   "source": [
    "import numpy as np"
   ]
  },
  {
   "cell_type": "code",
   "execution_count": 4,
   "id": "e2a2652c",
   "metadata": {},
   "outputs": [
    {
     "data": {
      "text/plain": [
       "array([ 2.        ,  2.16326531,  2.32653061,  2.48979592,  2.65306122,\n",
       "        2.81632653,  2.97959184,  3.14285714,  3.30612245,  3.46938776,\n",
       "        3.63265306,  3.79591837,  3.95918367,  4.12244898,  4.28571429,\n",
       "        4.44897959,  4.6122449 ,  4.7755102 ,  4.93877551,  5.10204082,\n",
       "        5.26530612,  5.42857143,  5.59183673,  5.75510204,  5.91836735,\n",
       "        6.08163265,  6.24489796,  6.40816327,  6.57142857,  6.73469388,\n",
       "        6.89795918,  7.06122449,  7.2244898 ,  7.3877551 ,  7.55102041,\n",
       "        7.71428571,  7.87755102,  8.04081633,  8.20408163,  8.36734694,\n",
       "        8.53061224,  8.69387755,  8.85714286,  9.02040816,  9.18367347,\n",
       "        9.34693878,  9.51020408,  9.67346939,  9.83673469, 10.        ])"
      ]
     },
     "execution_count": 4,
     "metadata": {},
     "output_type": "execute_result"
    }
   ],
   "source": [
    "np.linspace(2,10)"
   ]
  },
  {
   "cell_type": "code",
   "execution_count": 5,
   "id": "bfc9a82d",
   "metadata": {},
   "outputs": [
    {
     "data": {
      "text/plain": [
       "50"
      ]
     },
     "execution_count": 5,
     "metadata": {},
     "output_type": "execute_result"
    }
   ],
   "source": [
    "len(np.linspace(2,10))"
   ]
  },
  {
   "cell_type": "code",
   "execution_count": 16,
   "id": "c5346ebb",
   "metadata": {},
   "outputs": [
    {
     "data": {
      "text/plain": [
       "(array([2, 2, 2, 3, 3, 4, 4, 4, 5, 5, 6, 6, 6, 7, 7, 8, 8, 8, 9, 9]), 0.4)"
      ]
     },
     "execution_count": 16,
     "metadata": {},
     "output_type": "execute_result"
    }
   ],
   "source": [
    "np.linspace(2,10,num = 20,retstep = True, endpoint = False, dtype = 'int')"
   ]
  },
  {
   "cell_type": "code",
   "execution_count": 17,
   "id": "2866f161",
   "metadata": {},
   "outputs": [
    {
     "data": {
      "text/plain": [
       "array([[ 2,  3,  2],\n",
       "       [ 2,  3,  2],\n",
       "       [ 3,  4,  3],\n",
       "       [ 4,  5,  4],\n",
       "       [ 5,  6,  5],\n",
       "       [ 6,  6,  6],\n",
       "       [ 7,  7,  7],\n",
       "       [ 8,  8,  8],\n",
       "       [ 9,  9,  9],\n",
       "       [10, 10, 10]])"
      ]
     },
     "execution_count": 17,
     "metadata": {},
     "output_type": "execute_result"
    }
   ],
   "source": [
    "np.linspace((2,3,2),10, num = 10, dtype = 'int')"
   ]
  },
  {
   "cell_type": "code",
   "execution_count": 24,
   "id": "66065f80",
   "metadata": {},
   "outputs": [],
   "source": [
    "a = np.linspace((3,4,6),10, num = 3, dtype = 'int')"
   ]
  },
  {
   "cell_type": "code",
   "execution_count": 25,
   "id": "e569bb3c",
   "metadata": {},
   "outputs": [
    {
     "data": {
      "text/plain": [
       "array([[ 3,  4,  6],\n",
       "       [ 6,  7,  8],\n",
       "       [10, 10, 10]])"
      ]
     },
     "execution_count": 25,
     "metadata": {},
     "output_type": "execute_result"
    }
   ],
   "source": [
    "a"
   ]
  },
  {
   "cell_type": "code",
   "execution_count": 27,
   "id": "6185327c",
   "metadata": {},
   "outputs": [
    {
     "data": {
      "text/plain": [
       "(3, 3)"
      ]
     },
     "execution_count": 27,
     "metadata": {},
     "output_type": "execute_result"
    }
   ],
   "source": [
    "\n",
    "a.shape"
   ]
  },
  {
   "cell_type": "code",
   "execution_count": 28,
   "id": "0d9ef1b2",
   "metadata": {},
   "outputs": [
    {
     "data": {
      "text/plain": [
       "array([[ 3,  6, 10],\n",
       "       [ 4,  7, 10],\n",
       "       [ 6,  8, 10]])"
      ]
     },
     "execution_count": 28,
     "metadata": {},
     "output_type": "execute_result"
    }
   ],
   "source": [
    "a.T"
   ]
  },
  {
   "cell_type": "code",
   "execution_count": 29,
   "id": "5fa6b042",
   "metadata": {},
   "outputs": [
    {
     "data": {
      "text/plain": [
       "array([[ 3,  6, 10],\n",
       "       [ 4,  7, 10],\n",
       "       [ 6,  8, 10]])"
      ]
     },
     "execution_count": 29,
     "metadata": {},
     "output_type": "execute_result"
    }
   ],
   "source": [
    "a.transpose()"
   ]
  },
  {
   "cell_type": "code",
   "execution_count": 30,
   "id": "55590c4c",
   "metadata": {},
   "outputs": [
    {
     "data": {
      "text/plain": [
       "array([[ 3,  6, 10],\n",
       "       [ 4,  7, 10],\n",
       "       [ 6,  8, 10]])"
      ]
     },
     "execution_count": 30,
     "metadata": {},
     "output_type": "execute_result"
    }
   ],
   "source": [
    "np.transpose(a)"
   ]
  },
  {
   "cell_type": "code",
   "execution_count": 40,
   "id": "e6843f88",
   "metadata": {},
   "outputs": [],
   "source": [
    "a = np.linspace((2,3,5),9, num = 3, dtype = 'int',endpoint = False)"
   ]
  },
  {
   "cell_type": "code",
   "execution_count": 41,
   "id": "d575e133",
   "metadata": {},
   "outputs": [
    {
     "data": {
      "text/plain": [
       "array([[2, 3, 5],\n",
       "       [4, 5, 6],\n",
       "       [6, 7, 7]])"
      ]
     },
     "execution_count": 41,
     "metadata": {},
     "output_type": "execute_result"
    }
   ],
   "source": [
    "a"
   ]
  },
  {
   "cell_type": "code",
   "execution_count": 42,
   "id": "4121854b",
   "metadata": {},
   "outputs": [
    {
     "data": {
      "text/plain": [
       "array([[2, 4, 6],\n",
       "       [3, 5, 7],\n",
       "       [5, 6, 7]])"
      ]
     },
     "execution_count": 42,
     "metadata": {},
     "output_type": "execute_result"
    }
   ],
   "source": [
    "a.T"
   ]
  },
  {
   "cell_type": "markdown",
   "id": "b3d68b51",
   "metadata": {},
   "source": [
    "# random number"
   ]
  },
  {
   "cell_type": "code",
   "execution_count": 49,
   "id": "896c779b",
   "metadata": {},
   "outputs": [
    {
     "data": {
      "text/plain": [
       "array([[0.07937513, 0.20291085],\n",
       "       [0.77000244, 0.92123441]])"
      ]
     },
     "execution_count": 49,
     "metadata": {},
     "output_type": "execute_result"
    }
   ],
   "source": [
    "np.random.rand(2,2) # gives number from range 0 to 1 positive only"
   ]
  },
  {
   "cell_type": "code",
   "execution_count": 53,
   "id": "cc0a4a10",
   "metadata": {},
   "outputs": [
    {
     "data": {
      "text/plain": [
       "array([[[0.32364372, 0.0843019 , 0.26446942],\n",
       "        [0.98694246, 0.78986649, 0.31667454],\n",
       "        [0.02257165, 0.57630084, 0.75481757]],\n",
       "\n",
       "       [[0.310827  , 0.89581764, 0.76353759],\n",
       "        [0.94281978, 0.0721459 , 0.55572586],\n",
       "        [0.94827561, 0.78744642, 0.15182381]],\n",
       "\n",
       "       [[0.40526213, 0.46801879, 0.16218826],\n",
       "        [0.87821468, 0.99932453, 0.98478003],\n",
       "        [0.21112973, 0.01900662, 0.62187846]]])"
      ]
     },
     "execution_count": 53,
     "metadata": {},
     "output_type": "execute_result"
    }
   ],
   "source": [
    "np.random.rand(3,3,3)"
   ]
  },
  {
   "cell_type": "code",
   "execution_count": 78,
   "id": "fb72ae7b",
   "metadata": {},
   "outputs": [],
   "source": [
    "a = np.random.randint(5, 15, size=(3, 3))"
   ]
  },
  {
   "cell_type": "code",
   "execution_count": 79,
   "id": "e4b654a3",
   "metadata": {},
   "outputs": [
    {
     "data": {
      "text/plain": [
       "array([[12,  8,  5],\n",
       "       [ 9, 12, 11],\n",
       "       [ 8,  6,  8]])"
      ]
     },
     "execution_count": 79,
     "metadata": {},
     "output_type": "execute_result"
    }
   ],
   "source": [
    "a"
   ]
  },
  {
   "cell_type": "code",
   "execution_count": 89,
   "id": "9f5f8b6a",
   "metadata": {},
   "outputs": [
    {
     "data": {
      "text/plain": [
       "array([[-0.34917781, -1.14475061,  0.10689437],\n",
       "       [ 0.05255618,  2.05338023,  1.16314382],\n",
       "       [ 1.38560625, -0.04592887, -0.42546728]])"
      ]
     },
     "execution_count": 89,
     "metadata": {},
     "output_type": "execute_result"
    }
   ],
   "source": [
    "np.random.randn(3,3) # it gives random output of both positive and negetive values"
   ]
  },
  {
   "cell_type": "code",
   "execution_count": 102,
   "id": "b7ac8ac4",
   "metadata": {},
   "outputs": [
    {
     "data": {
      "text/plain": [
       "array([[0.01489429, 0.80109676, 0.13432964],\n",
       "       [0.83137775, 0.48471199, 0.12551774],\n",
       "       [0.07518335, 0.80145049, 0.01548924]])"
      ]
     },
     "execution_count": 102,
     "metadata": {},
     "output_type": "execute_result"
    }
   ],
   "source": [
    "np.random.random((3,3))# it gives outpurt from 0.0 to 1.0 in float"
   ]
  },
  {
   "cell_type": "code",
   "execution_count": 136,
   "id": "2886310a",
   "metadata": {},
   "outputs": [
    {
     "name": "stderr",
     "output_type": "stream",
     "text": [
      "C:\\Users\\PRATIK~1\\AppData\\Local\\Temp/ipykernel_7228/4164884896.py:1: DeprecationWarning: This function is deprecated. Please call randint(2, 10 + 1) instead\n",
      "  np.random.random_integers(2, 10,(3,3))\n"
     ]
    },
    {
     "data": {
      "text/plain": [
       "array([[4, 2, 5],\n",
       "       [4, 2, 4],\n",
       "       [8, 9, 2]])"
      ]
     },
     "execution_count": 136,
     "metadata": {},
     "output_type": "execute_result"
    }
   ],
   "source": [
    "np.random.random_integers(2, 10,(3,3))"
   ]
  },
  {
   "cell_type": "code",
   "execution_count": 137,
   "id": "36169d85",
   "metadata": {},
   "outputs": [
    {
     "data": {
      "text/plain": [
       "array([[8, 5, 6],\n",
       "       [8, 4, 3],\n",
       "       [8, 6, 8]])"
      ]
     },
     "execution_count": 137,
     "metadata": {},
     "output_type": "execute_result"
    }
   ],
   "source": [
    "\n",
    "\n",
    "np.random.randint(2,10,(3,3))"
   ]
  },
  {
   "cell_type": "code",
   "execution_count": 176,
   "id": "2d43363c",
   "metadata": {},
   "outputs": [
    {
     "data": {
      "text/plain": [
       "array([[0, 1, 2],\n",
       "       [0, 1, 0],\n",
       "       [0, 1, 2]])"
      ]
     },
     "execution_count": 176,
     "metadata": {},
     "output_type": "execute_result"
    }
   ],
   "source": [
    "np.random.choice(3,(3,3))"
   ]
  },
  {
   "cell_type": "code",
   "execution_count": 191,
   "id": "bf871afc",
   "metadata": {},
   "outputs": [
    {
     "data": {
      "text/plain": [
       "array([0.4359949 , 0.02592623, 0.54966248, 0.43532239, 0.4203678 ,\n",
       "       0.33033482, 0.20464863, 0.61927097, 0.29965467, 0.26682728])"
      ]
     },
     "execution_count": 191,
     "metadata": {},
     "output_type": "execute_result"
    }
   ],
   "source": [
    "np.random.seed(2)\n",
    "np.random.random(10)"
   ]
  },
  {
   "cell_type": "code",
   "execution_count": 196,
   "id": "f87387ff",
   "metadata": {},
   "outputs": [],
   "source": [
    "a = np.random.randint(1,8,(4,5))"
   ]
  },
  {
   "cell_type": "code",
   "execution_count": 197,
   "id": "b77a231f",
   "metadata": {},
   "outputs": [
    {
     "data": {
      "text/plain": [
       "array([[7, 1, 3, 6, 2],\n",
       "       [2, 2, 7, 5, 3],\n",
       "       [7, 4, 1, 4, 1],\n",
       "       [3, 3, 1, 5, 7]])"
      ]
     },
     "execution_count": 197,
     "metadata": {},
     "output_type": "execute_result"
    }
   ],
   "source": [
    "a"
   ]
  },
  {
   "cell_type": "code",
   "execution_count": 198,
   "id": "4ab6f717",
   "metadata": {},
   "outputs": [
    {
     "data": {
      "text/plain": [
       "(4, 5)"
      ]
     },
     "execution_count": 198,
     "metadata": {},
     "output_type": "execute_result"
    }
   ],
   "source": [
    "a.shape"
   ]
  },
  {
   "cell_type": "code",
   "execution_count": 201,
   "id": "f8f9498a",
   "metadata": {},
   "outputs": [
    {
     "data": {
      "text/plain": [
       "array([[7, 1, 3, 6, 2, 2, 2, 7, 5, 3],\n",
       "       [7, 4, 1, 4, 1, 3, 3, 1, 5, 7]])"
      ]
     },
     "execution_count": 201,
     "metadata": {},
     "output_type": "execute_result"
    }
   ],
   "source": [
    "a.reshape(2,10)"
   ]
  },
  {
   "cell_type": "code",
   "execution_count": 202,
   "id": "4155c427",
   "metadata": {},
   "outputs": [
    {
     "data": {
      "text/plain": [
       "array([[7, 1, 3, 6, 2],\n",
       "       [2, 2, 7, 5, 3],\n",
       "       [7, 4, 1, 4, 1],\n",
       "       [3, 3, 1, 5, 7]])"
      ]
     },
     "execution_count": 202,
     "metadata": {},
     "output_type": "execute_result"
    }
   ],
   "source": [
    "a"
   ]
  },
  {
   "cell_type": "code",
   "execution_count": 203,
   "id": "f84d7f4a",
   "metadata": {},
   "outputs": [],
   "source": [
    "a.resize(5,4)"
   ]
  },
  {
   "cell_type": "code",
   "execution_count": 204,
   "id": "e40fe354",
   "metadata": {},
   "outputs": [
    {
     "data": {
      "text/plain": [
       "array([[7, 1, 3, 6],\n",
       "       [2, 2, 2, 7],\n",
       "       [5, 3, 7, 4],\n",
       "       [1, 4, 1, 3],\n",
       "       [3, 1, 5, 7]])"
      ]
     },
     "execution_count": 204,
     "metadata": {},
     "output_type": "execute_result"
    }
   ],
   "source": [
    "a"
   ]
  },
  {
   "cell_type": "code",
   "execution_count": 205,
   "id": "17422437",
   "metadata": {},
   "outputs": [
    {
     "data": {
      "text/plain": [
       "array([[7, 1, 3, 6],\n",
       "       [2, 2, 2, 7],\n",
       "       [5, 3, 7, 4],\n",
       "       [1, 4, 1, 3],\n",
       "       [3, 1, 5, 7]])"
      ]
     },
     "execution_count": 205,
     "metadata": {},
     "output_type": "execute_result"
    }
   ],
   "source": [
    "a"
   ]
  },
  {
   "cell_type": "code",
   "execution_count": 208,
   "id": "06fe719f",
   "metadata": {},
   "outputs": [],
   "source": [
    "a.resize(2,10)"
   ]
  },
  {
   "cell_type": "code",
   "execution_count": 209,
   "id": "c47f1958",
   "metadata": {},
   "outputs": [
    {
     "data": {
      "text/plain": [
       "array([[7, 1, 3, 6, 2, 2, 2, 7, 5, 3],\n",
       "       [7, 4, 1, 4, 1, 3, 3, 1, 5, 7]])"
      ]
     },
     "execution_count": 209,
     "metadata": {},
     "output_type": "execute_result"
    }
   ],
   "source": [
    "a"
   ]
  },
  {
   "cell_type": "code",
   "execution_count": null,
   "id": "730370e4",
   "metadata": {},
   "outputs": [],
   "source": []
  }
 ],
 "metadata": {
  "kernelspec": {
   "display_name": "Python 3 (ipykernel)",
   "language": "python",
   "name": "python3"
  },
  "language_info": {
   "codemirror_mode": {
    "name": "ipython",
    "version": 3
   },
   "file_extension": ".py",
   "mimetype": "text/x-python",
   "name": "python",
   "nbconvert_exporter": "python",
   "pygments_lexer": "ipython3",
   "version": "3.9.7"
  }
 },
 "nbformat": 4,
 "nbformat_minor": 5
}
